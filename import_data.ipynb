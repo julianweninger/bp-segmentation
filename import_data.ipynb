{
 "cells": [
  {
   "attachments": {},
   "cell_type": "markdown",
   "metadata": {},
   "source": [
    "# Imports data from tissue analyser and performs some further analysis"
   ]
  },
  {
   "cell_type": "code",
   "execution_count": 1,
   "metadata": {},
   "outputs": [
    {
     "name": "stdout",
     "output_type": "stream",
     "text": [
      "Defaulting to user installation because normal site-packages is not writeable\n",
      "Looking in indexes: https://pypi.org/simple, https://pypi.ngc.nvidia.com\n",
      "Requirement already satisfied: xarray in /home/julian/.local/lib/python3.10/site-packages (2023.2.0)\n",
      "Requirement already satisfied: numpy>=1.21 in /usr/lib/python3/dist-packages (from xarray) (1.21.5)\n",
      "Requirement already satisfied: pandas>=1.4 in /home/julian/.local/lib/python3.10/site-packages (from xarray) (1.4.2)\n",
      "Requirement already satisfied: packaging>=21.3 in /usr/lib/python3/dist-packages (from xarray) (21.3)\n",
      "Requirement already satisfied: pytz>=2020.1 in /usr/lib/python3/dist-packages (from pandas>=1.4->xarray) (2022.1)\n",
      "Requirement already satisfied: python-dateutil>=2.8.1 in /usr/lib/python3/dist-packages (from pandas>=1.4->xarray) (2.8.1)\n"
     ]
    }
   ],
   "source": [
    "!pip install xarray"
   ]
  },
  {
   "cell_type": "code",
   "execution_count": 2,
   "metadata": {},
   "outputs": [],
   "source": [
    "# load external packages\n",
    "\n",
    "from curses import meta\n",
    "import os\n",
    "import os.path\n",
    "import argparse\n",
    "\n",
    "import logging\n",
    "import warnings\n",
    "import time\n",
    "from copy import deepcopy\n",
    "from typing import Tuple\n",
    "\n",
    "import numpy as np\n",
    "import pandas as pd\n",
    "import xarray as xr\n",
    "\n",
    "import math\n",
    "from scipy.optimize import curve_fit\n",
    "from scipy.interpolate import griddata\n",
    "\n",
    "import matplotlib as mpl\n",
    "import matplotlib.pyplot as plt\n",
    "import matplotlib.animation as animation\n",
    "\n",
    "import seaborn as sns\n",
    "\n",
    "import yaml\n",
    "from PIL import Image\n",
    "from PIL.TiffTags import TAGS"
   ]
  },
  {
   "cell_type": "code",
   "execution_count": 15,
   "metadata": {},
   "outputs": [],
   "source": [
    "# load segmentation scripts\n",
    "\n",
    "from import_data_function import import_data\n",
    "from utils import *"
   ]
  },
  {
   "cell_type": "code",
   "execution_count": 4,
   "metadata": {},
   "outputs": [
    {
     "name": "stderr",
     "output_type": "stream",
     "text": [
      "2023-03-30 11:33:22,350 :: INFO :: Initialized logger\n"
     ]
    }
   ],
   "source": [
    "# initialize logger\n",
    "\n",
    "logging.basicConfig(level=logging.INFO,\n",
    "                    format='%(asctime)s :: %(levelname)s :: %(message)s')\n",
    "log = logging.getLogger(\"DataImport\")\n",
    "log.setLevel(logging.DEBUG)\n",
    "\n",
    "log.info(\"Initialized logger\")"
   ]
  },
  {
   "cell_type": "code",
   "execution_count": 10,
   "metadata": {},
   "outputs": [
    {
     "name": "stderr",
     "output_type": "stream",
     "text": [
      "2023-03-30 11:38:46,696 :: INFO :: Loading data at /home/julian/tissue_segmentation/bp-segmentation\n",
      "2023-03-30 11:38:46,751 :: INFO :: Using channel sum_px_intensity_cells_ch1 for HCA criterion\n",
      "2023-03-30 11:38:46,753 :: INFO :: Detected 22.37 perc. HC\n",
      "2023-03-30 11:38:46,754 :: INFO :: HC density per file: \n",
      "2023-03-30 11:38:46,796 :: INFO :: Setting column aligned_with_PD_axis: `True' (from default).\n",
      "2023-03-30 11:38:46,797 :: INFO :: Loaded data at /home/julian/tissue_segmentation/bp-segmentation in 0.10s.\n",
      "2023-03-30 11:38:46,799 :: INFO :: ---------\n",
      "2023-03-30 11:38:46,799 :: INFO :: Important Info:\n",
      "2023-03-30 11:38:46,800 :: INFO :: \n",
      "2023-03-30 11:38:46,800 :: INFO :: HCs have an average HCA criterion of:\n",
      "2023-03-30 11:38:46,817 :: INFO :: Gathered 608 cells (incl. 136 HC) at stages ['E14'] and positions ['75I']. 1 files: \n",
      " ['E14_75I_6_0.tif']\n",
      "2023-03-30 11:38:46,820 :: INFO :: --------------------\n",
      "2023-03-30 11:38:46,820 :: INFO :: Retrieving meta-data\n",
      "2023-03-30 11:38:46,821 :: INFO :: --------------------\n",
      "2023-03-30 11:38:46,823 :: DEBUG ::  Searching /home/julian/tissue_segmentation/bp-segmentation/sample-data/E14_75I_6_0.tif for meta data ...\n",
      "2023-03-30 11:38:46,825 :: DEBUG ::    Found image resolution: 8.53x8.53 pixel_per_micron\n",
      "2023-03-30 11:38:46,832 :: INFO :: ------------------------\n",
      "2023-03-30 11:38:46,832 :: INFO :: Post-processing data ...\n",
      "2023-03-30 11:38:46,833 :: INFO :: ------------------------\n",
      "2023-03-30 11:38:46,840 :: DEBUG :: Assigning neighbourhood ...\n"
     ]
    },
    {
     "name": "stdout",
     "output_type": "stream",
     "text": [
      "filename\n",
      "E14_75I_6_0.tif    0.223684\n",
      "dtype: float64\n",
      "file_id\n",
      "0    255.0\n",
      "Name: HCA_criterion, dtype: float64\n"
     ]
    },
    {
     "name": "stderr",
     "output_type": "stream",
     "text": [
      "2023-03-30 11:38:50,022 :: INFO :: Number of HC-HC junctions: \n",
      "filename         type\n",
      "E14_75I_6_0.tif  HH      3\n",
      "Name: type, dtype: int64\n",
      "2023-03-30 11:38:50,022 :: INFO :: Assigned neighbourhood in 3.18 s.\n",
      "2023-03-30 11:38:50,023 :: INFO :: ---\n",
      "2023-03-30 11:38:50,023 :: DEBUG :: Normalizing length scales ...\n",
      "2023-03-30 11:38:50,090 :: INFO :: Normalized length scales in 0.07 s.\n",
      "2023-03-30 11:38:50,090 :: DEBUG :: Calculating hexatic order ..\n",
      "2023-03-30 11:38:52,367 :: INFO :: Calculated hexatic order in 2.28 s.\n",
      "2023-03-30 11:38:52,367 :: INFO :: Cell tracking skipped.\n",
      "2023-03-30 11:38:52,368 :: DEBUG :: Importing cilia ..\n",
      "2023-03-30 11:38:52,368 :: DEBUG :: Parsing cilia import args: \n",
      "{'path': 'sample-data/cilia-data', 'HC_only': True, 'max_radius': 1.2, 'import_kwargs': {'sep': ',', 'header': 0, 'pixel_per_micron': [1.0, 1.0]}, 'sort_values': {'by': ['rho'], 'ascending': [True]}}\n",
      "2023-03-30 11:38:53,307 :: INFO :: Assigned 54 cilia for 136 HC in 0.94s.\n",
      "2023-03-30 11:38:53,307 :: INFO :: NOT importing ppMLC foci\n",
      "2023-03-30 11:38:53,312 :: INFO :: Completed post-processing of data in 6.48s.\n",
      "2023-03-30 11:38:53,313 :: DEBUG :: Saving data with suffix 'summary' in treated-data...\n",
      "2023-03-30 11:38:53,804 :: INFO :: Saved data with suffix 'summary' in treated-data.\n",
      "2023-03-30 11:38:53,805 :: DEBUG :: Creating composite images as recapitulation of data ...\n",
      "2023-03-30 11:38:53,819 :: DEBUG ::    Plotting /home/julian/tissue_segmentation/bp-segmentation/sample-data/E14_75I_6_0.tif ...\n",
      "2023-03-30 11:38:54,273 :: INFO :: Created composite images as recapitulation of data in treated-data.\n",
      "2023-03-30 11:38:54,273 :: INFO :: Success!\n"
     ]
    }
   ],
   "source": [
    "cells, bonds = import_data(config_file=\"sample-data/import_config.yml\", log=log)"
   ]
  },
  {
   "cell_type": "code",
   "execution_count": null,
   "metadata": {},
   "outputs": [],
   "source": []
  }
 ],
 "metadata": {
  "kernelspec": {
   "display_name": "Python 3",
   "language": "python",
   "name": "python3"
  },
  "language_info": {
   "codemirror_mode": {
    "name": "ipython",
    "version": 3
   },
   "file_extension": ".py",
   "mimetype": "text/x-python",
   "name": "python",
   "nbconvert_exporter": "python",
   "pygments_lexer": "ipython3",
   "version": "3.10.6"
  },
  "orig_nbformat": 4
 },
 "nbformat": 4,
 "nbformat_minor": 2
}
